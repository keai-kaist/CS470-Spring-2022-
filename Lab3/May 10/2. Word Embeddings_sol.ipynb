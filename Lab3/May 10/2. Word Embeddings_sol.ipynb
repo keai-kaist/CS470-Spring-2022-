{
 "cells": [
  {
   "cell_type": "markdown",
   "metadata": {
    "id": "eT1WZmG3AKAJ"
   },
   "source": [
    "# CS470 Introduction to Artificial Intelligence\n",
    "## Deep Learning Practice \n",
    "#### Prof. Ho-Jin Choi\n",
    "#### School of Computing, KAIST\n",
    "\n",
    "---"
   ]
  },
  {
   "cell_type": "markdown",
   "metadata": {
    "id": "h0iV89BMAKAK"
   },
   "source": [
    "## 4. Recurrent Neural Networks\n",
    "### 4-2.  Word embeddings\n",
    "To handle the text data, we should convert the text into numbers first (i.e., preprocess the data). "
   ]
  },
  {
   "cell_type": "markdown",
   "metadata": {
    "id": "OryvWURrAKAL"
   },
   "source": [
    "#### One-hot encodings \n",
    "First method for representing the text as numbers is an \"one-hot\" encode each word in the vocabulary. Consider the sentence \"The cat sat on the mat\". The vocabulary (or unique words) in this sentence is (cat, mat, on, sat, the). To represent each word, we will create a zero vector with length equal to the number of the vocabularies, then place a one in the index that corresponds to the word. This approach is shown in the following diagram.\n",
    "\n",
    "![One Hot Encodings](https://github.com/keai-kaist/CS470/blob/main/Lab3/May%2011/images/one-hot.png?raw=true)\n",
    "\n",
    "To create a vector that contains the encoding of the sentence, we could then concatenate the one-hot vectors for each word.\n",
    "\n",
    "However, This approach has several downsides. \n",
    "1. One-hot encoding is very inefficient. \n",
    "- A one-hot encoded vector is sparse (meaning most indicies are zero). Imagine we have 10,000 words in the vocabulary. To one-hot encode each word, we would create a vector where 99.99% of the elements are zero.\n",
    "2. One-hot encoding cannot incorporate semantics between each word.\n",
    "- Every token in one-hot encoding is equally distant away from all the others. That is,\n",
    "\n",
    "![One-hot distance](https://github.com/keai-kaist/CS470/blob/main/Lab3/May%2011/images/one-hot-distance.PNG?raw=true)\n",
    "\n",
    "\n",
    "#### Word embeddings\n",
    "Word embeddings give us a way to use an efficient, dense representation in which similar words have a similar encoding. Importantly, we do not have to specify this encoding by hand.\n",
    "\n",
    "Instead of specifying the values for the embedding manually, they are trainable parameters (weights learned by the model during training, in the same way a model learns weights for a dense layer). So, the neural network captures the token's meaning as a vector.  \n",
    "It is common to see word embeddings that are 8-dimensional (for small datasets), up to 1024-dimensions when working with large datasets. A higher dimensional embedding can capture fine-grained relationships between words, but takes more data to learn.\n",
    "\n",
    "![Word Embeddings](https://github.com/keai-kaist/CS470/blob/main/Lab3/May%2011/images/embeddings.png?raw=true)\n",
    "\n",
    "Above is a diagram for a word embedding. Each word is represented as a 4-dimensional vector of floating point values. Another way to think of an embedding is as \"lookup table\". After these weights have been learned, we can encode each word by looking up the dense vector it corresponds to in the table.\n",
    "\n",
    "- Papers related to word-embeddings\n",
    "1. CBoW, Skip-gram: https://arxiv.org/pdf/1301.3781v3.pdf\n",
    "2. GloVe: https://www.aclweb.org/anthology/D14-1162.pdf\n",
    "3. fastText: https://arxiv.org/pdf/1607.04606v2.pdf"
   ]
  },
  {
   "cell_type": "code",
   "execution_count": 1,
   "metadata": {
    "executionInfo": {
     "elapsed": 3433,
     "status": "ok",
     "timestamp": 1652133518721,
     "user": {
      "displayName": "황예찬",
      "userId": "17717120127194971636"
     },
     "user_tz": -540
    },
    "id": "hLH4QDU3AKAL"
   },
   "outputs": [],
   "source": [
    "try:\n",
    "    %tensorflow_version 2.x\n",
    "except Exception:\n",
    "    pass\n",
    "\n",
    "import tensorflow as tf\n",
    "import matplotlib.pyplot as plt"
   ]
  },
  {
   "cell_type": "markdown",
   "metadata": {
    "id": "Zc5OO67tAKAM"
   },
   "source": [
    "#### Using the Embedding Layer\n",
    "\n",
    "![Keras embedding layer](https://github.com/keai-kaist/CS470/blob/main/Lab3/May%2011/images/keras-embedding.jpg?raw=true)\n",
    "\n",
    "Keras makes it easy to use word embeddings. Let's take a look at the [`tf.keras.layers.Embedding(input_dim, output_dim)`](https://www.tensorflow.org/versions/r2.0/api_docs/python/tf/keras/layers/Embedding). This layers turns positive integers (indicies) into dense vectors of fixed size.\n",
    "- `input_dim`: Size of the vocabulary. 2D tensor with shape `(batch_size, input_length)`\n",
    "- `output_dim`: Dimension of the dense embedding. 3D tensor with shape `(batch_size, input_length, output_dim)`"
   ]
  },
  {
   "cell_type": "markdown",
   "metadata": {
    "id": "ywPWtquZAKAN"
   },
   "source": [
    "---------이부분 설명해야함------\n",
    "\n",
    "The Embedding layer can be understood as a lookup table that maps from integer indices (which stand for specific words) to dense vectors. The dimensionality of the embedding is a parameter you can experiment with to see what works well for your problem (much in the same way you would experiment with the number of neurons in a Dense layer).\n",
    "\n",
    "When you create an Embedding layer, the weights for the embedding are randomly initialized. During training, they are gradually adjusted via backpropagation. Once trained, the learned word embeddings will roughly encode similarities between words (as they were learned for the specific problem your model is trained on).\n",
    "\n",
    "---------이부분 설명해야함------"
   ]
  },
  {
   "cell_type": "markdown",
   "metadata": {
    "id": "QSc77iKoAKAN"
   },
   "source": [
    "#### Learning embeddings from scratch\n",
    "We will train a sentiment classifier on IMDB movie reviews we previously did. In the process, we will learn embeddings from scratch. "
   ]
  },
  {
   "cell_type": "code",
   "execution_count": 2,
   "metadata": {
    "executionInfo": {
     "elapsed": 9884,
     "status": "ok",
     "timestamp": 1652133528601,
     "user": {
      "displayName": "황예찬",
      "userId": "17717120127194971636"
     },
     "user_tz": -540
    },
    "id": "iP6lAlcSAKAN"
   },
   "outputs": [],
   "source": [
    "vocab_size = 10000\n",
    "imdb = tf.keras.datasets.imdb\n",
    "(train_data, train_labels), (test_data, test_labels) = imdb.load_data(num_words=vocab_size)"
   ]
  },
  {
   "cell_type": "markdown",
   "metadata": {
    "id": "VB6bkg13AKAO"
   },
   "source": [
    "As imported, the text of reviews is integer-encoded (each integer represents a specific word in a dictionary)."
   ]
  },
  {
   "cell_type": "code",
   "execution_count": 3,
   "metadata": {
    "colab": {
     "base_uri": "https://localhost:8080/"
    },
    "executionInfo": {
     "elapsed": 11,
     "status": "ok",
     "timestamp": 1652133528602,
     "user": {
      "displayName": "황예찬",
      "userId": "17717120127194971636"
     },
     "user_tz": -540
    },
    "id": "7RYfvVkzAKAO",
    "outputId": "89d5acf0-b569-458a-c285-5b70973673d2"
   },
   "outputs": [
    {
     "name": "stdout",
     "output_type": "stream",
     "text": [
      "Length of data: 218\n",
      "[1, 14, 22, 16, 43, 530, 973, 1622, 1385, 65, 458, 4468, 66, 3941, 4, 173, 36, 256, 5, 25, 100, 43, 838, 112, 50, 670, 2, 9, 35, 480, 284, 5, 150, 4, 172, 112, 167, 2, 336, 385, 39, 4, 172, 4536, 1111, 17, 546, 38, 13, 447, 4, 192, 50, 16, 6, 147, 2025, 19, 14, 22, 4, 1920, 4613, 469, 4, 22, 71, 87, 12, 16, 43, 530, 38, 76, 15, 13, 1247, 4, 22, 17, 515, 17, 12, 16, 626, 18, 2, 5, 62, 386, 12, 8, 316, 8, 106, 5, 4, 2223, 5244, 16, 480, 66, 3785, 33, 4, 130, 12, 16, 38, 619, 5, 25, 124, 51, 36, 135, 48, 25, 1415, 33, 6, 22, 12, 215, 28, 77, 52, 5, 14, 407, 16, 82, 2, 8, 4, 107, 117, 5952, 15, 256, 4, 2, 7, 3766, 5, 723, 36, 71, 43, 530, 476, 26, 400, 317, 46, 7, 4, 2, 1029, 13, 104, 88, 4, 381, 15, 297, 98, 32, 2071, 56, 26, 141, 6, 194, 7486, 18, 4, 226, 22, 21, 134, 476, 26, 480, 5, 144, 30, 5535, 18, 51, 36, 28, 224, 92, 25, 104, 4, 226, 65, 16, 38, 1334, 88, 12, 16, 283, 5, 16, 4472, 113, 103, 32, 15, 16, 5345, 19, 178, 32]\n",
      "1\n"
     ]
    }
   ],
   "source": [
    "print(f'Length of data: {len(train_data[0])}')\n",
    "print(train_data[0])\n",
    "print(train_labels[0])"
   ]
  },
  {
   "cell_type": "code",
   "execution_count": 4,
   "metadata": {
    "colab": {
     "base_uri": "https://localhost:8080/"
    },
    "executionInfo": {
     "elapsed": 10,
     "status": "ok",
     "timestamp": 1652133528602,
     "user": {
      "displayName": "황예찬",
      "userId": "17717120127194971636"
     },
     "user_tz": -540
    },
    "id": "5lAJlVNgBHjl",
    "outputId": "aa1d6e15-b5d7-418b-f5e8-0d39aebda4c9"
   },
   "outputs": [
    {
     "data": {
      "text/plain": [
       "<tf.Tensor: shape=(6, 16), dtype=float32, numpy=\n",
       "array([[ 0.02847464,  0.03780273,  0.01132794,  0.00671985,  0.00908358,\n",
       "        -0.00487753,  0.03881743,  0.03115806, -0.01414986,  0.01264632,\n",
       "        -0.00229532,  0.04276622,  0.01395691,  0.0174806 , -0.04956384,\n",
       "        -0.01207414],\n",
       "       [ 0.03977457,  0.03784201, -0.01015686,  0.03131368, -0.01304567,\n",
       "        -0.0166531 , -0.00348819, -0.02567102, -0.001109  ,  0.01773306,\n",
       "         0.01040789, -0.03389682,  0.00568116, -0.00654359, -0.01006129,\n",
       "        -0.01836001],\n",
       "       [-0.04675616,  0.04097727,  0.02617447, -0.01722314, -0.02310731,\n",
       "        -0.04488571,  0.01311258, -0.01117438, -0.02425354,  0.03478792,\n",
       "         0.00830635,  0.00342504, -0.0197068 , -0.01432742,  0.03596782,\n",
       "         0.02582819],\n",
       "       [-0.03699143, -0.02420338,  0.0456467 ,  0.00618888,  0.01072108,\n",
       "         0.00681623, -0.02930198,  0.03318087,  0.04815615, -0.01437119,\n",
       "        -0.01848196,  0.03485743, -0.01619468, -0.01302711, -0.0029523 ,\n",
       "         0.03086132],\n",
       "       [ 0.02847464,  0.03780273,  0.01132794,  0.00671985,  0.00908358,\n",
       "        -0.00487753,  0.03881743,  0.03115806, -0.01414986,  0.01264632,\n",
       "        -0.00229532,  0.04276622,  0.01395691,  0.0174806 , -0.04956384,\n",
       "        -0.01207414],\n",
       "       [ 0.03977457,  0.03784201, -0.01015686,  0.03131368, -0.01304567,\n",
       "        -0.0166531 , -0.00348819, -0.02567102, -0.001109  ,  0.01773306,\n",
       "         0.01040789, -0.03389682,  0.00568116, -0.00654359, -0.01006129,\n",
       "        -0.01836001]], dtype=float32)>"
      ]
     },
     "execution_count": 4,
     "metadata": {},
     "output_type": "execute_result"
    }
   ],
   "source": [
    "import numpy as np\n",
    "\n",
    "embedding = tf.keras.layers.Embedding(10000, 16)\n",
    "embedding(np.array([1,2,3,4,1,2]))"
   ]
  },
  {
   "cell_type": "code",
   "execution_count": 4,
   "metadata": {
    "executionInfo": {
     "elapsed": 8,
     "status": "ok",
     "timestamp": 1652133528602,
     "user": {
      "displayName": "황예찬",
      "userId": "17717120127194971636"
     },
     "user_tz": -540
    },
    "id": "9cinVh-PBHl9"
   },
   "outputs": [],
   "source": [
    ""
   ]
  },
  {
   "cell_type": "code",
   "execution_count": 4,
   "metadata": {
    "executionInfo": {
     "elapsed": 8,
     "status": "ok",
     "timestamp": 1652133528602,
     "user": {
      "displayName": "황예찬",
      "userId": "17717120127194971636"
     },
     "user_tz": -540
    },
    "id": "GZ-iIMnFBHn8"
   },
   "outputs": [],
   "source": [
    ""
   ]
  },
  {
   "cell_type": "markdown",
   "metadata": {
    "id": "4AEHoE2FAKAP"
   },
   "source": [
    "#### Convert the integers back to words\n",
    "It may be useful to know how to convert integers back to text. Here, we'll create a helper function to query a dictionary object that contains the integer to string mapping.\n",
    "\n",
    "And actually, by the default setting of [`tf.keras.datasets.imdb.load_data`](https://www.tensorflow.org/api_docs/python/tf/keras/datasets/imdb/load_data), integer index 1 indicates the start of a sequence and 2 indicates the out-of-vocabulary character. Then, 4 is the first index that actual words appears.\n",
    "\n",
    "#### Things to do\n",
    "\n",
    "1. First, we will load imdb dictionary (word_int_dict) that maps words to an integer index\n",
    "2. We will make a dictionary that maps integer index to words (int_word_dict, which is inverse of word_int_dict)\n",
    "3. The actual words must appear from index 4 in int_word_dict\n",
    "4. We will define some indexes for special tokens (0-PAD, 1-START, 2-UNK, 3-UNUSED)\n",
    "5. Finally, we will define a function (decode_review) that can convert index array to sequence of words"
   ]
  },
  {
   "cell_type": "code",
   "execution_count": 5,
   "metadata": {
    "executionInfo": {
     "elapsed": 448,
     "status": "ok",
     "timestamp": 1652133529043,
     "user": {
      "displayName": "황예찬",
      "userId": "17717120127194971636"
     },
     "user_tz": -540
    },
    "id": "R8fkL4QsBzG5"
   },
   "outputs": [],
   "source": [
    "word_int_dict = imdb.get_word_index()"
   ]
  },
  {
   "cell_type": "code",
   "execution_count": 5,
   "metadata": {
    "executionInfo": {
     "elapsed": 5,
     "status": "ok",
     "timestamp": 1652133529043,
     "user": {
      "displayName": "황예찬",
      "userId": "17717120127194971636"
     },
     "user_tz": -540
    },
    "id": "u3k69JSPyFVX"
   },
   "outputs": [],
   "source": [
    ""
   ]
  },
  {
   "cell_type": "code",
   "execution_count": 6,
   "metadata": {
    "executionInfo": {
     "elapsed": 3,
     "status": "ok",
     "timestamp": 1652133529043,
     "user": {
      "displayName": "황예찬",
      "userId": "17717120127194971636"
     },
     "user_tz": -540
    },
    "id": "ygMxIwyGCOSo"
   },
   "outputs": [],
   "source": [
    "int_word_dict = {}\n",
    "\n",
    "for key in word_int_dict.keys():\n",
    "    value = word_int_dict[key]\n",
    "    int_word_dict[value+3] = key\n",
    "\n",
    "int_word_dict[0] = \"<PAD>\"\n",
    "int_word_dict[1] = \"<START>\"\n",
    "int_word_dict[2] = \"<UNK>\"\n",
    "int_word_dict[3] = \"<UNUSED>\"\n",
    "\n",
    "def decode_review(text):\n",
    "    ret=\"\"\n",
    "    for index in text:\n",
    "        ret += int_word_dict[index]+' '\n",
    "    return ret"
   ]
  },
  {
   "cell_type": "code",
   "execution_count": 7,
   "metadata": {
    "colab": {
     "base_uri": "https://localhost:8080/"
    },
    "executionInfo": {
     "elapsed": 4,
     "status": "ok",
     "timestamp": 1652133529044,
     "user": {
      "displayName": "황예찬",
      "userId": "17717120127194971636"
     },
     "user_tz": -540
    },
    "id": "TMKpSwDDC0do",
    "outputId": "0b84fda4-38b0-4f1c-c029-3cc47e2f7726"
   },
   "outputs": [
    {
     "data": {
      "text/plain": [
       "0"
      ]
     },
     "execution_count": 7,
     "metadata": {},
     "output_type": "execute_result"
    }
   ],
   "source": [
    "min(list(int_word_dict.keys()))"
   ]
  },
  {
   "cell_type": "code",
   "execution_count": 7,
   "metadata": {
    "executionInfo": {
     "elapsed": 3,
     "status": "ok",
     "timestamp": 1652133529044,
     "user": {
      "displayName": "황예찬",
      "userId": "17717120127194971636"
     },
     "user_tz": -540
    },
    "id": "oU3NZP5mCOYz"
   },
   "outputs": [],
   "source": [
    ""
   ]
  },
  {
   "cell_type": "code",
   "execution_count": 9,
   "metadata": {
    "colab": {
     "base_uri": "https://localhost:8080/",
     "height": 35
    },
    "executionInfo": {
     "elapsed": 284,
     "status": "ok",
     "timestamp": 1652133543992,
     "user": {
      "displayName": "황예찬",
      "userId": "17717120127194971636"
     },
     "user_tz": -540
    },
    "id": "zo4hpiRbCOas",
    "outputId": "6050822a-83ba-4097-bc1c-1c23a665afb2"
   },
   "outputs": [
    {
     "data": {
      "application/vnd.google.colaboratory.intrinsic+json": {
       "type": "string"
      },
      "text/plain": [
       "'the'"
      ]
     },
     "execution_count": 9,
     "metadata": {},
     "output_type": "execute_result"
    }
   ],
   "source": [
    "int_word_dict[4]"
   ]
  },
  {
   "cell_type": "code",
   "execution_count": 10,
   "metadata": {
    "colab": {
     "base_uri": "https://localhost:8080/",
     "height": 166
    },
    "executionInfo": {
     "elapsed": 339,
     "status": "ok",
     "timestamp": 1652133546220,
     "user": {
      "displayName": "황예찬",
      "userId": "17717120127194971636"
     },
     "user_tz": -540
    },
    "id": "-u-TuMsIAKAP",
    "outputId": "dc84365f-894c-47ea-f65b-d6213a725c36"
   },
   "outputs": [
    {
     "name": "stdout",
     "output_type": "stream",
     "text": [
      "Train_data[0]: [1, 14, 22, 16, 43, 530, 973, 1622, 1385, 65, 458, 4468, 66, 3941, 4, 173, 36, 256, 5, 25, 100, 43, 838, 112, 50, 670, 2, 9, 35, 480, 284, 5, 150, 4, 172, 112, 167, 2, 336, 385, 39, 4, 172, 4536, 1111, 17, 546, 38, 13, 447, 4, 192, 50, 16, 6, 147, 2025, 19, 14, 22, 4, 1920, 4613, 469, 4, 22, 71, 87, 12, 16, 43, 530, 38, 76, 15, 13, 1247, 4, 22, 17, 515, 17, 12, 16, 626, 18, 2, 5, 62, 386, 12, 8, 316, 8, 106, 5, 4, 2223, 5244, 16, 480, 66, 3785, 33, 4, 130, 12, 16, 38, 619, 5, 25, 124, 51, 36, 135, 48, 25, 1415, 33, 6, 22, 12, 215, 28, 77, 52, 5, 14, 407, 16, 82, 2, 8, 4, 107, 117, 5952, 15, 256, 4, 2, 7, 3766, 5, 723, 36, 71, 43, 530, 476, 26, 400, 317, 46, 7, 4, 2, 1029, 13, 104, 88, 4, 381, 15, 297, 98, 32, 2071, 56, 26, 141, 6, 194, 7486, 18, 4, 226, 22, 21, 134, 476, 26, 480, 5, 144, 30, 5535, 18, 51, 36, 28, 224, 92, 25, 104, 4, 226, 65, 16, 38, 1334, 88, 12, 16, 283, 5, 16, 4472, 113, 103, 32, 15, 16, 5345, 19, 178, 32]\n",
      "\n"
     ]
    },
    {
     "data": {
      "application/vnd.google.colaboratory.intrinsic+json": {
       "type": "string"
      },
      "text/plain": [
       "\"<START> this film was just brilliant casting location scenery story direction everyone's really suited the part they played and you could just imagine being there robert <UNK> is an amazing actor and now the same being director <UNK> father came from the same scottish island as myself so i loved the fact there was a real connection with this film the witty remarks throughout the film were great it was just brilliant so much that i bought the film as soon as it was released for <UNK> and would recommend it to everyone to watch and the fly fishing was amazing really cried at the end it was so sad and you know what they say if you cry at a film it must have been good and this definitely was also <UNK> to the two little boy's that played the <UNK> of norman and paul they were just brilliant children are often left out of the <UNK> list i think because the stars that play them all grown up are such a big profile for the whole film but these children are amazing and should be praised for what they have done don't you think the whole story was so lovely because it was true and was someone's life after all that was shared with us all \""
      ]
     },
     "execution_count": 10,
     "metadata": {},
     "output_type": "execute_result"
    }
   ],
   "source": [
    "\n",
    "print(\"Train_data[0]: {}\\n\".format(train_data[0]))\n",
    "decode_review(train_data[0])"
   ]
  },
  {
   "cell_type": "markdown",
   "metadata": {
    "id": "VnKQmYGHAKAP"
   },
   "source": [
    "Movie reviews can be different lengths. We will use the [`pad_sequences`](https://www.tensorflow.org/versions/r2.0/api_docs/python/tf/keras/preprocessing/sequence/pad_sequences) function to standardize the lengths of the reviews."
   ]
  },
  {
   "cell_type": "code",
   "execution_count": 11,
   "metadata": {
    "executionInfo": {
     "elapsed": 1447,
     "status": "ok",
     "timestamp": 1652133548961,
     "user": {
      "displayName": "황예찬",
      "userId": "17717120127194971636"
     },
     "user_tz": -540
    },
    "id": "991DllItAKAP"
   },
   "outputs": [],
   "source": [
    "# Standardize the lenghts of data to use it as an input of model\n",
    "maxlen = 500\n",
    "\n",
    "# Return the 2D Numpy array of shape (train_data, maxlen) \n",
    "# by transfoming the input data with zeros peddings \n",
    "train_data = tf.keras.preprocessing.sequence.pad_sequences(\n",
    "    train_data,\n",
    "    value=0,\n",
    "    padding='post',\n",
    "    maxlen=maxlen\n",
    ")\n",
    "\n",
    "test_data = tf.keras.preprocessing.sequence.pad_sequences(\n",
    "    test_data,\n",
    "    value=0,\n",
    "    padding='post',\n",
    "    maxlen=maxlen\n",
    ")"
   ]
  },
  {
   "cell_type": "code",
   "execution_count": 12,
   "metadata": {
    "colab": {
     "base_uri": "https://localhost:8080/"
    },
    "executionInfo": {
     "elapsed": 8,
     "status": "ok",
     "timestamp": 1652133548962,
     "user": {
      "displayName": "황예찬",
      "userId": "17717120127194971636"
     },
     "user_tz": -540
    },
    "id": "mnhFo1PMAKAQ",
    "outputId": "4489e25b-e1e3-49b9-9c67-31f0a698142e"
   },
   "outputs": [
    {
     "name": "stdout",
     "output_type": "stream",
     "text": [
      "Length of data: 500\n",
      "[   1   14   22   16   43  530  973 1622 1385   65  458 4468   66 3941\n",
      "    4  173   36  256    5   25  100   43  838  112   50  670    2    9\n",
      "   35  480  284    5  150    4  172  112  167    2  336  385   39    4\n",
      "  172 4536 1111   17  546   38   13  447    4  192   50   16    6  147\n",
      " 2025   19   14   22    4 1920 4613  469    4   22   71   87   12   16\n",
      "   43  530   38   76   15   13 1247    4   22   17  515   17   12   16\n",
      "  626   18    2    5   62  386   12    8  316    8  106    5    4 2223\n",
      " 5244   16  480   66 3785   33    4  130   12   16   38  619    5   25\n",
      "  124   51   36  135   48   25 1415   33    6   22   12  215   28   77\n",
      "   52    5   14  407   16   82    2    8    4  107  117 5952   15  256\n",
      "    4    2    7 3766    5  723   36   71   43  530  476   26  400  317\n",
      "   46    7    4    2 1029   13  104   88    4  381   15  297   98   32\n",
      " 2071   56   26  141    6  194 7486   18    4  226   22   21  134  476\n",
      "   26  480    5  144   30 5535   18   51   36   28  224   92   25  104\n",
      "    4  226   65   16   38 1334   88   12   16  283    5   16 4472  113\n",
      "  103   32   15   16 5345   19  178   32    0    0    0    0    0    0\n",
      "    0    0    0    0    0    0    0    0    0    0    0    0    0    0\n",
      "    0    0    0    0    0    0    0    0    0    0    0    0    0    0\n",
      "    0    0    0    0    0    0    0    0    0    0    0    0    0    0\n",
      "    0    0    0    0    0    0    0    0    0    0    0    0    0    0\n",
      "    0    0    0    0    0    0    0    0    0    0    0    0    0    0\n",
      "    0    0    0    0    0    0    0    0    0    0    0    0    0    0\n",
      "    0    0    0    0    0    0    0    0    0    0    0    0    0    0\n",
      "    0    0    0    0    0    0    0    0    0    0    0    0    0    0\n",
      "    0    0    0    0    0    0    0    0    0    0    0    0    0    0\n",
      "    0    0    0    0    0    0    0    0    0    0    0    0    0    0\n",
      "    0    0    0    0    0    0    0    0    0    0    0    0    0    0\n",
      "    0    0    0    0    0    0    0    0    0    0    0    0    0    0\n",
      "    0    0    0    0    0    0    0    0    0    0    0    0    0    0\n",
      "    0    0    0    0    0    0    0    0    0    0    0    0    0    0\n",
      "    0    0    0    0    0    0    0    0    0    0    0    0    0    0\n",
      "    0    0    0    0    0    0    0    0    0    0    0    0    0    0\n",
      "    0    0    0    0    0    0    0    0    0    0    0    0    0    0\n",
      "    0    0    0    0    0    0    0    0    0    0    0    0    0    0\n",
      "    0    0    0    0    0    0    0    0    0    0    0    0    0    0\n",
      "    0    0    0    0    0    0    0    0    0    0]\n"
     ]
    }
   ],
   "source": [
    "print(f'Length of data: {len(train_data[0])}')\n",
    "print(train_data[0])"
   ]
  },
  {
   "cell_type": "markdown",
   "metadata": {
    "id": "G6CA5QMxAKAQ"
   },
   "source": [
    "#### Create simple embedding model \n",
    "\n",
    "Let's define our model using `tf.keras.Sequential`\n",
    "- The first layer is a `tf.keras.layers.Embedding` layer. This layer takes the integer-encoded vocabulary and looks up the embedding vector for each word-index (convert integers to floating values). These vectors are learned as the model trains.\n",
    "- Next, a `tf.keras.layers.GlobalAveragePooling1D` layer returns a fixed-length output vector for each example by averaging over the sequence dimension. This allows the model to handle input of variable length, in the simplest way possible.  \n",
    "![Global average pool 1D](https://github.com/keai-kaist/CS470/blob/main/Lab3/May%2011/images/global-average-pool-1d.png?raw=true)\n",
    "- This fixed-length output vector is piped through a `tf.keras.layers.Dense` with 16 hidden units.\n",
    "- The last layer is a `tf.keras.layers.Dense` with a single output node. Using the sigmoid activation function, this value is a float between 0 and 1, representing a probability (or confidence level) that the review is positive."
   ]
  },
  {
   "cell_type": "code",
   "execution_count": 13,
   "metadata": {
    "executionInfo": {
     "elapsed": 5,
     "status": "ok",
     "timestamp": 1652133548962,
     "user": {
      "displayName": "황예찬",
      "userId": "17717120127194971636"
     },
     "user_tz": -540
    },
    "id": "a6ZScFkIEuSr"
   },
   "outputs": [],
   "source": [
    "pooling_func = tf.keras.layers.GlobalAveragePooling1D()\n",
    "result = pooling_func(\n",
    "    np.array([\n",
    "        [\n",
    "         [1,4,5],\n",
    "         [3,6,7]\n",
    "         ]              \n",
    "    ])\n",
    "\n",
    ")"
   ]
  },
  {
   "cell_type": "code",
   "execution_count": 14,
   "metadata": {
    "colab": {
     "base_uri": "https://localhost:8080/"
    },
    "executionInfo": {
     "elapsed": 5,
     "status": "ok",
     "timestamp": 1652133548962,
     "user": {
      "displayName": "황예찬",
      "userId": "17717120127194971636"
     },
     "user_tz": -540
    },
    "id": "vSwULIO7EuZW",
    "outputId": "d5be8191-7a98-41f9-bf36-f85c87611f62"
   },
   "outputs": [
    {
     "data": {
      "text/plain": [
       "<tf.Tensor: shape=(1, 3), dtype=int64, numpy=array([[2, 5, 6]])>"
      ]
     },
     "execution_count": 14,
     "metadata": {},
     "output_type": "execute_result"
    }
   ],
   "source": [
    "result"
   ]
  },
  {
   "cell_type": "code",
   "execution_count": 14,
   "metadata": {
    "executionInfo": {
     "elapsed": 3,
     "status": "ok",
     "timestamp": 1652133548962,
     "user": {
      "displayName": "황예찬",
      "userId": "17717120127194971636"
     },
     "user_tz": -540
    },
    "id": "jFo1od32Eubh"
   },
   "outputs": [],
   "source": [
    ""
   ]
  },
  {
   "cell_type": "code",
   "execution_count": 14,
   "metadata": {
    "executionInfo": {
     "elapsed": 4,
     "status": "ok",
     "timestamp": 1652133548963,
     "user": {
      "displayName": "황예찬",
      "userId": "17717120127194971636"
     },
     "user_tz": -540
    },
    "id": "gSv3eFTmEudw"
   },
   "outputs": [],
   "source": [
    ""
   ]
  },
  {
   "cell_type": "code",
   "execution_count": 15,
   "metadata": {
    "executionInfo": {
     "elapsed": 3,
     "status": "ok",
     "timestamp": 1652133548963,
     "user": {
      "displayName": "황예찬",
      "userId": "17717120127194971636"
     },
     "user_tz": -540
    },
    "id": "FaJEP5GeAKAQ"
   },
   "outputs": [],
   "source": [
    "embedding_dim = 16\n",
    "\n",
    "model = tf.keras.Sequential([\n",
    "    tf.keras.layers.Embedding(vocab_size,embedding_dim,input_length=maxlen),\n",
    "    tf.keras.layers.GlobalAveragePooling1D(),\n",
    "    tf.keras.layers.Dense(16, activation='relu'),\n",
    "    tf.keras.layers.Dense(1, activation='sigmoid')\n",
    "\n",
    "])"
   ]
  },
  {
   "cell_type": "code",
   "execution_count": 16,
   "metadata": {
    "colab": {
     "base_uri": "https://localhost:8080/"
    },
    "executionInfo": {
     "elapsed": 427,
     "status": "ok",
     "timestamp": 1652133549387,
     "user": {
      "displayName": "황예찬",
      "userId": "17717120127194971636"
     },
     "user_tz": -540
    },
    "id": "vo5JvYwHF7XH",
    "outputId": "4a76266b-b1af-4329-b153-f73b971e821b"
   },
   "outputs": [
    {
     "name": "stdout",
     "output_type": "stream",
     "text": [
      "Model: \"sequential\"\n",
      "_________________________________________________________________\n",
      " Layer (type)                Output Shape              Param #   \n",
      "=================================================================\n",
      " embedding_1 (Embedding)     (None, 500, 16)           160000    \n",
      "                                                                 \n",
      " global_average_pooling1d_1   (None, 16)               0         \n",
      " (GlobalAveragePooling1D)                                        \n",
      "                                                                 \n",
      " dense (Dense)               (None, 16)                272       \n",
      "                                                                 \n",
      " dense_1 (Dense)             (None, 1)                 17        \n",
      "                                                                 \n",
      "=================================================================\n",
      "Total params: 160,289\n",
      "Trainable params: 160,289\n",
      "Non-trainable params: 0\n",
      "_________________________________________________________________\n"
     ]
    }
   ],
   "source": [
    "model.summary()"
   ]
  },
  {
   "cell_type": "markdown",
   "metadata": {
    "id": "Dj9dP9-uAKAQ"
   },
   "source": [
    "#### Compile and train the model "
   ]
  },
  {
   "cell_type": "code",
   "execution_count": 17,
   "metadata": {
    "colab": {
     "base_uri": "https://localhost:8080/"
    },
    "executionInfo": {
     "elapsed": 82766,
     "status": "ok",
     "timestamp": 1652133632150,
     "user": {
      "displayName": "황예찬",
      "userId": "17717120127194971636"
     },
     "user_tz": -540
    },
    "id": "pLdTxXuiAKAQ",
    "outputId": "f8fbe691-249b-41d2-8a71-b4899c11044a"
   },
   "outputs": [
    {
     "name": "stdout",
     "output_type": "stream",
     "text": [
      "Epoch 1/30\n",
      "49/49 [==============================] - 3s 46ms/step - loss: 0.6919 - accuracy: 0.5630 - val_loss: 0.6896 - val_accuracy: 0.6940\n",
      "Epoch 2/30\n",
      "49/49 [==============================] - 2s 35ms/step - loss: 0.6827 - accuracy: 0.6763 - val_loss: 0.6745 - val_accuracy: 0.7229\n",
      "Epoch 3/30\n",
      "49/49 [==============================] - 2s 33ms/step - loss: 0.6568 - accuracy: 0.7545 - val_loss: 0.6403 - val_accuracy: 0.7624\n",
      "Epoch 4/30\n",
      "49/49 [==============================] - 2s 37ms/step - loss: 0.6090 - accuracy: 0.7798 - val_loss: 0.5884 - val_accuracy: 0.7885\n",
      "Epoch 5/30\n",
      "49/49 [==============================] - 2s 43ms/step - loss: 0.5471 - accuracy: 0.8168 - val_loss: 0.5297 - val_accuracy: 0.8166\n",
      "Epoch 6/30\n",
      "49/49 [==============================] - 2s 31ms/step - loss: 0.4829 - accuracy: 0.8432 - val_loss: 0.4744 - val_accuracy: 0.8342\n",
      "Epoch 7/30\n",
      "49/49 [==============================] - 2s 38ms/step - loss: 0.4264 - accuracy: 0.8632 - val_loss: 0.4292 - val_accuracy: 0.8464\n",
      "Epoch 8/30\n",
      "49/49 [==============================] - 2s 31ms/step - loss: 0.3805 - accuracy: 0.8757 - val_loss: 0.3942 - val_accuracy: 0.8586\n",
      "Epoch 9/30\n",
      "49/49 [==============================] - 2s 31ms/step - loss: 0.3447 - accuracy: 0.8852 - val_loss: 0.3702 - val_accuracy: 0.8595\n",
      "Epoch 10/30\n",
      "49/49 [==============================] - 2s 31ms/step - loss: 0.3178 - accuracy: 0.8912 - val_loss: 0.3491 - val_accuracy: 0.8685\n",
      "Epoch 11/30\n",
      "49/49 [==============================] - 2s 37ms/step - loss: 0.2948 - accuracy: 0.8988 - val_loss: 0.3353 - val_accuracy: 0.8711\n",
      "Epoch 12/30\n",
      "49/49 [==============================] - 2s 37ms/step - loss: 0.2768 - accuracy: 0.9041 - val_loss: 0.3228 - val_accuracy: 0.8751\n",
      "Epoch 13/30\n",
      "49/49 [==============================] - 2s 31ms/step - loss: 0.2607 - accuracy: 0.9101 - val_loss: 0.3138 - val_accuracy: 0.8777\n",
      "Epoch 14/30\n",
      "49/49 [==============================] - 2s 31ms/step - loss: 0.2471 - accuracy: 0.9140 - val_loss: 0.3068 - val_accuracy: 0.8790\n",
      "Epoch 15/30\n",
      "49/49 [==============================] - 2s 31ms/step - loss: 0.2355 - accuracy: 0.9175 - val_loss: 0.3012 - val_accuracy: 0.8808\n",
      "Epoch 16/30\n",
      "49/49 [==============================] - 2s 41ms/step - loss: 0.2247 - accuracy: 0.9230 - val_loss: 0.2969 - val_accuracy: 0.8828\n",
      "Epoch 17/30\n",
      "49/49 [==============================] - 2s 39ms/step - loss: 0.2154 - accuracy: 0.9258 - val_loss: 0.2930 - val_accuracy: 0.8842\n",
      "Epoch 18/30\n",
      "49/49 [==============================] - 2s 31ms/step - loss: 0.2074 - accuracy: 0.9288 - val_loss: 0.2901 - val_accuracy: 0.8846\n",
      "Epoch 19/30\n",
      "49/49 [==============================] - 2s 36ms/step - loss: 0.1985 - accuracy: 0.9316 - val_loss: 0.2887 - val_accuracy: 0.8846\n",
      "Epoch 20/30\n",
      "49/49 [==============================] - 2s 35ms/step - loss: 0.1911 - accuracy: 0.9342 - val_loss: 0.2868 - val_accuracy: 0.8858\n",
      "Epoch 21/30\n",
      "49/49 [==============================] - 2s 34ms/step - loss: 0.1843 - accuracy: 0.9378 - val_loss: 0.2861 - val_accuracy: 0.8862\n",
      "Epoch 22/30\n",
      "49/49 [==============================] - 2s 31ms/step - loss: 0.1785 - accuracy: 0.9396 - val_loss: 0.2866 - val_accuracy: 0.8865\n",
      "Epoch 23/30\n",
      "49/49 [==============================] - 2s 31ms/step - loss: 0.1727 - accuracy: 0.9422 - val_loss: 0.2862 - val_accuracy: 0.8858\n",
      "Epoch 24/30\n",
      "49/49 [==============================] - 2s 32ms/step - loss: 0.1670 - accuracy: 0.9441 - val_loss: 0.2865 - val_accuracy: 0.8862\n",
      "Epoch 25/30\n",
      "49/49 [==============================] - 2s 37ms/step - loss: 0.1617 - accuracy: 0.9462 - val_loss: 0.2876 - val_accuracy: 0.8857\n",
      "Epoch 26/30\n",
      "49/49 [==============================] - 2s 31ms/step - loss: 0.1568 - accuracy: 0.9479 - val_loss: 0.2895 - val_accuracy: 0.8860\n",
      "Epoch 27/30\n",
      "49/49 [==============================] - 2s 34ms/step - loss: 0.1523 - accuracy: 0.9494 - val_loss: 0.2895 - val_accuracy: 0.8861\n",
      "Epoch 28/30\n",
      "49/49 [==============================] - 2s 43ms/step - loss: 0.1480 - accuracy: 0.9509 - val_loss: 0.2929 - val_accuracy: 0.8858\n",
      "Epoch 29/30\n",
      "49/49 [==============================] - 2s 42ms/step - loss: 0.1432 - accuracy: 0.9533 - val_loss: 0.2932 - val_accuracy: 0.8863\n",
      "Epoch 30/30\n",
      "49/49 [==============================] - 2s 42ms/step - loss: 0.1395 - accuracy: 0.9547 - val_loss: 0.2952 - val_accuracy: 0.8853\n"
     ]
    }
   ],
   "source": [
    "model.compile(\n",
    "    optimizer='adam',\n",
    "    loss='binary_crossentropy',\n",
    "    metrics=['accuracy']\n",
    ")\n",
    "\n",
    "history = model.fit(\n",
    "    train_data,\n",
    "    train_labels,\n",
    "    epochs=30,\n",
    "    batch_size=512,\n",
    "    validation_data = (test_data, test_labels)\n",
    "\n",
    ")"
   ]
  },
  {
   "cell_type": "markdown",
   "metadata": {
    "id": "4LHmHimgAKAR"
   },
   "source": [
    "With this approach our model reaches a validation accuracy of around 88%."
   ]
  },
  {
   "cell_type": "code",
   "execution_count": 18,
   "metadata": {
    "colab": {
     "base_uri": "https://localhost:8080/",
     "height": 1000
    },
    "executionInfo": {
     "elapsed": 1202,
     "status": "ok",
     "timestamp": 1652133633344,
     "user": {
      "displayName": "황예찬",
      "userId": "17717120127194971636"
     },
     "user_tz": -540
    },
    "id": "fo7Z-QRqAKAR",
    "outputId": "e790e566-7083-4a55-8fcf-eb9469fc4639"
   },
   "outputs": [
    {
     "data": {
      "image/png": "[encoded data removed]",
      "text/plain": [
       "<Figure size 864x648 with 1 Axes>"
      ]
     },
     "metadata": {
      "needs_background": "light"
     },
     "output_type": "display_data"
    },
    {
     "data": {
      "image/png": "[encoded data removed]",
      "text/plain": [
       "<Figure size 864x648 with 1 Axes>"
      ]
     },
     "metadata": {
      "needs_background": "light"
     },
     "output_type": "display_data"
    }
   ],
   "source": [
    "history_dict = history.history\n",
    "\n",
    "acc = history_dict['accuracy']\n",
    "val_acc = history_dict['val_accuracy']\n",
    "loss = history_dict['loss']\n",
    "val_loss = history_dict['val_loss']\n",
    "\n",
    "epochs = range(1, len(acc) + 1)\n",
    "\n",
    "plt.figure(figsize=(12, 9))\n",
    "plt.plot(epochs, loss, 'bo', label='Training loss')\n",
    "plt.plot(epochs, val_loss, 'b', label='Validation loss')\n",
    "plt.title('Training and validation loss')\n",
    "plt.xlabel('Epochs')\n",
    "plt.ylabel('Loss')\n",
    "plt.legend()\n",
    "plt.show()\n",
    "\n",
    "plt.figure(figsize=(12, 9))\n",
    "plt.plot(epochs, acc, 'bo', label='Training acc')\n",
    "plt.plot(epochs, val_acc, 'b', label='Validation acc')\n",
    "plt.title('Training and validation accuracy')\n",
    "plt.xlabel('Epochs')\n",
    "plt.ylabel('Accuracy')\n",
    "plt.legend(loc='lower right')\n",
    "plt.ylim((0.5, 1))\n",
    "plt.show()"
   ]
  },
  {
   "cell_type": "markdown",
   "metadata": {
    "id": "6KHBiJFOAKAR"
   },
   "source": [
    "#### Explore the learned embeddings\n",
    "Next, let's explore the word embeddings learned during training. To use Embedding Projector, we will dump the embedding layers as two files: \n",
    "- A file of embeddings\n",
    "- A file of meta data containing words"
   ]
  },
  {
   "cell_type": "code",
   "execution_count": 19,
   "metadata": {
    "executionInfo": {
     "elapsed": 4,
     "status": "ok",
     "timestamp": 1652133633344,
     "user": {
      "displayName": "황예찬",
      "userId": "17717120127194971636"
     },
     "user_tz": -540
    },
    "id": "EoCaGrSVAKAR"
   },
   "outputs": [],
   "source": [
    "embedding_layer = model.layers[0]\n",
    "weights = embedding_layer.get_weights()[0]\n",
    "\n",
    "with open('embeddings.tsv', 'w', encoding='utf-8') as embeddings_file:\n",
    "    with open('meta.tsv', 'w', encoding='utf-8') as meta_file:\n",
    "        for word_index in range(vocab_size):\n",
    "            word = int_word_dict[word_index]\n",
    "            embedding = weights[word_index]\n",
    "            \n",
    "            print('\\t'.join(str(x) for x in embedding), file=embeddings_file)\n",
    "            print(word, file=meta_file)"
   ]
  },
  {
   "cell_type": "code",
   "execution_count": 20,
   "metadata": {
    "colab": {
     "base_uri": "https://localhost:8080/",
     "height": 17
    },
    "executionInfo": {
     "elapsed": 5,
     "status": "ok",
     "timestamp": 1652133633345,
     "user": {
      "displayName": "황예찬",
      "userId": "17717120127194971636"
     },
     "user_tz": -540
    },
    "id": "RPW9-gc2AKAR",
    "outputId": "c4be78e5-9aac-4b1a-9a96-daecb370dd71"
   },
   "outputs": [
    {
     "data": {
      "application/javascript": [
       "\n",
       "    async function download(id, filename, size) {\n",
       "      if (!google.colab.kernel.accessAllowed) {\n",
       "        return;\n",
       "      }\n",
       "      const div = document.createElement('div');\n",
       "      const label = document.createElement('label');\n",
       "      label.textContent = `Downloading \"${filename}\": `;\n",
       "      div.appendChild(label);\n",
       "      const progress = document.createElement('progress');\n",
       "      progress.max = size;\n",
       "      div.appendChild(progress);\n",
       "      document.body.appendChild(div);\n",
       "\n",
       "      const buffers = [];\n",
       "      let downloaded = 0;\n",
       "\n",
       "      const channel = await google.colab.kernel.comms.open(id);\n",
       "      // Send a message to notify the kernel that we're ready.\n",
       "      channel.send({})\n",
       "\n",
       "      for await (const message of channel.messages) {\n",
       "        // Send a message to notify the kernel that we're ready.\n",
       "        channel.send({})\n",
       "        if (message.buffers) {\n",
       "          for (const buffer of message.buffers) {\n",
       "            buffers.push(buffer);\n",
       "            downloaded += buffer.byteLength;\n",
       "            progress.value = downloaded;\n",
       "          }\n",
       "        }\n",
       "      }\n",
       "      const blob = new Blob(buffers, {type: 'application/binary'});\n",
       "      const a = document.createElement('a');\n",
       "      a.href = window.URL.createObjectURL(blob);\n",
       "      a.download = filename;\n",
       "      div.appendChild(a);\n",
       "      a.click();\n",
       "      div.remove();\n",
       "    }\n",
       "  "
      ],
      "text/plain": [
       "<IPython.core.display.Javascript object>"
      ]
     },
     "metadata": {},
     "output_type": "display_data"
    },
    {
     "data": {
      "application/javascript": [
       "download(\"download_6aa3d205-a331-4200-a23b-0e384498e35a\", \"embeddings.tsv\", 1836620)"
      ],
      "text/plain": [
       "<IPython.core.display.Javascript object>"
      ]
     },
     "metadata": {},
     "output_type": "display_data"
    },
    {
     "data": {
      "application/javascript": [
       "\n",
       "    async function download(id, filename, size) {\n",
       "      if (!google.colab.kernel.accessAllowed) {\n",
       "        return;\n",
       "      }\n",
       "      const div = document.createElement('div');\n",
       "      const label = document.createElement('label');\n",
       "      label.textContent = `Downloading \"${filename}\": `;\n",
       "      div.appendChild(label);\n",
       "      const progress = document.createElement('progress');\n",
       "      progress.max = size;\n",
       "      div.appendChild(progress);\n",
       "      document.body.appendChild(div);\n",
       "\n",
       "      const buffers = [];\n",
       "      let downloaded = 0;\n",
       "\n",
       "      const channel = await google.colab.kernel.comms.open(id);\n",
       "      // Send a message to notify the kernel that we're ready.\n",
       "      channel.send({})\n",
       "\n",
       "      for await (const message of channel.messages) {\n",
       "        // Send a message to notify the kernel that we're ready.\n",
       "        channel.send({})\n",
       "        if (message.buffers) {\n",
       "          for (const buffer of message.buffers) {\n",
       "            buffers.push(buffer);\n",
       "            downloaded += buffer.byteLength;\n",
       "            progress.value = downloaded;\n",
       "          }\n",
       "        }\n",
       "      }\n",
       "      const blob = new Blob(buffers, {type: 'application/binary'});\n",
       "      const a = document.createElement('a');\n",
       "      a.href = window.URL.createObjectURL(blob);\n",
       "      a.download = filename;\n",
       "      div.appendChild(a);\n",
       "      a.click();\n",
       "      div.remove();\n",
       "    }\n",
       "  "
      ],
      "text/plain": [
       "<IPython.core.display.Javascript object>"
      ]
     },
     "metadata": {},
     "output_type": "display_data"
    },
    {
     "data": {
      "application/javascript": [
       "download(\"download_c2c83f06-5a5f-431f-9c48-70c948ae256f\", \"meta.tsv\", 76168)"
      ],
      "text/plain": [
       "<IPython.core.display.Javascript object>"
      ]
     },
     "metadata": {},
     "output_type": "display_data"
    }
   ],
   "source": [
    "try:\n",
    "    from google.colab import files\n",
    "except ImportError:\n",
    "    pass\n",
    "else:\n",
    "    files.download('embeddings.tsv')\n",
    "    files.download('meta.tsv')"
   ]
  },
  {
   "cell_type": "markdown",
   "metadata": {
    "id": "J_NQic28AKAS"
   },
   "source": [
    "Then, we can visualize the embeddings using the [Embedding Projector](http://projector.tensorflow.org).\n",
    "\n",
    "Once you load dumped files, the embeddings you have trained will now be displayed. You can search for words to find their closest neighbors. For example, try searching for \"beautiful\". You may see neighbors like \"wonderful\". (Note: your results may be a bit different, depending on how weights were randomly initialized before training the embedding layer)"
   ]
  },
  {
   "cell_type": "code",
   "execution_count": 20,
   "metadata": {
    "executionInfo": {
     "elapsed": 4,
     "status": "ok",
     "timestamp": 1652133633345,
     "user": {
      "displayName": "황예찬",
      "userId": "17717120127194971636"
     },
     "user_tz": -540
    },
    "id": "MTJ51y6Uu2pn"
   },
   "outputs": [],
   "source": [
    ""
   ]
  }
 ],
 "metadata": {
  "colab": {
   "collapsed_sections": [],
   "name": "0510 2. Word Embeddings.ipynb",
   "provenance": [
    {
     "file_id": "https://github.com/keai-kaist/CS470/blob/main/Lab3/May%2011/2.%20Word%20Embeddings.ipynb",
     "timestamp": 1632809058651
    }
   ],
   "toc_visible": true
  },
  "kernelspec": {
   "display_name": "Python 3",
   "language": "python",
   "name": "python3"
  },
  "language_info": {
   "codemirror_mode": {
    "name": "ipython",
    "version": 3
   },
   "file_extension": ".py",
   "mimetype": "text/x-python",
   "name": "python",
   "nbconvert_exporter": "python",
   "pygments_lexer": "ipython3",
   "version": "3.8.8"
  }
 },
 "nbformat": 4,
 "nbformat_minor": 0
}
