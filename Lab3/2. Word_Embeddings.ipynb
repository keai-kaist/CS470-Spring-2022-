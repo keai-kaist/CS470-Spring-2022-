{
 "cells": [
  {
   "cell_type": "markdown",
   "metadata": {
    "id": "eT1WZmG3AKAJ"
   },
   "source": [
    "# CS470 Introduction to Artificial Intelligence\n",
    "## Deep Learning Practice \n",
    "#### Prof. Ho-Jin Choi\n",
    "#### School of Computing, KAIST\n",
    "\n",
    "---"
   ]
  },
  {
   "cell_type": "markdown",
   "metadata": {
    "id": "h0iV89BMAKAK"
   },
   "source": [
    "## 4. Recurrent Neural Networks\n",
    "### 4-2.  Word embeddings\n",
    "To handle the text data, we should convert the text into numbers first (i.e., preprocess the data). "
   ]
  },
  {
   "cell_type": "markdown",
   "metadata": {
    "id": "OryvWURrAKAL"
   },
   "source": [
    "#### One-hot encodings \n",
    "First method for representing the text as numbers is an \"one-hot\" encode each word in the vocabulary. Consider the sentence \"The cat sat on the mat\". The vocabulary (or unique words) in this sentence is (cat, mat, on, sat, the). To represent each word, we will create a zero vector with length equal to the number of the vocabularies, then place a one in the index that corresponds to the word. This approach is shown in the following diagram.\n",
    "\n",
    "![One Hot Encodings](images/one-hot.png)\n",
    "\n",
    "To create a vector that contains the encoding of the sentence, we could then concatenate the one-hot vectors for each word.\n",
    "\n",
    "However, This approach has several downsides. \n",
    "1. One-hot encoding is very inefficient. \n",
    "- A one-hot encoded vector is sparse (meaning most indicies are zero). Imagine we have 10,000 words in the vocabulary. To one-hot encode each word, we would create a vector where 99.99% of the elements are zero.\n",
    "2. One-hot encoding cannot incorporate semantics between each word.\n",
    "- Every token in one-hot encoding is equally distant away from all the others. That is,\n",
    "\n",
    "![One-hot distance](images/one-hot-distance.PNG)\n",
    "\n",
    "\n",
    "#### Word embeddings\n",
    "Word embeddings give us a way to use an efficient, dense representation in which similar words have a similar encoding. Importantly, we do not have to specify this encoding by hand.\n",
    "\n",
    "Instead of specifying the values for the embedding manually, they are trainable parameters (weights learned by the model during training, in the same way a model learns weights for a dense layer). So, the neural network captures the token's meaning as a vector.  \n",
    "It is common to see word embeddings that are 8-dimensional (for small datasets), up to 1024-dimensions when working with large datasets. A higher dimensional embedding can capture fine-grained relationships between words, but takes more data to learn.\n",
    "\n",
    "![Word Embeddings](images/embeddings.png)\n",
    "\n",
    "Above is a diagram for a word embedding. Each word is represented as a 4-dimensional vector of floating point values. Another way to think of an embedding is as \"lookup table\". After these weights have been learned, we can encode each word by looking up the dense vector it corresponds to in the table.\n",
    "\n",
    "- Papers related to word-embeddings\n",
    "1. CBoW, Skip-gram: https://arxiv.org/pdf/1301.3781v3.pdf\n",
    "2. GloVe: https://www.aclweb.org/anthology/D14-1162.pdf\n",
    "3. fastText: https://arxiv.org/pdf/1607.04606v2.pdf"
   ]
  },
  {
   "cell_type": "code",
   "execution_count": 1,
   "metadata": {
    "id": "hLH4QDU3AKAL"
   },
   "outputs": [],
   "source": [
    "try:\n",
    "    %tensorflow_version 2.x\n",
    "except Exception:\n",
    "    pass\n",
    "\n",
    "import tensorflow as tf\n",
    "import matplotlib.pyplot as plt"
   ]
  },
  {
   "cell_type": "markdown",
   "metadata": {
    "id": "Zc5OO67tAKAM"
   },
   "source": [
    "#### Using the Embedding Layer\n",
    "\n",
    "![Keras embedding layer](images/keras-embedding.jpg)\n",
    "\n",
    "Keras makes it easy to use word embeddings. Let's take a look at the [`tf.keras.layers.Embedding(input_dim, output_dim)`](https://www.tensorflow.org/versions/r2.0/api_docs/python/tf/keras/layers/Embedding). This layers turns positive integers (indicies) into dense vectors of fixed size.\n",
    "- `input_dim`: Size of the vocabulary. 2D tensor with shape `(batch_size, input_length)`\n",
    "- `output_dim`: Dimension of the dense embedding. 3D tensor with shape `(batch_size, input_length, output_dim)`"
   ]
  },
  {
   "cell_type": "markdown",
   "metadata": {
    "id": "QSc77iKoAKAN"
   },
   "source": [
    "#### Learning embeddings from scratch\n",
    "We will train a sentiment classifier on IMDB movie reviews we previously did. In the process, we will learn embeddings from scratch. "
   ]
  },
  {
   "cell_type": "code",
   "execution_count": null,
   "metadata": {
    "colab": {
     "base_uri": "https://localhost:8080/"
    },
    "id": "iP6lAlcSAKAN",
    "outputId": "7987e61f-4a0a-41cc-b332-830a62b04c80"
   },
   "outputs": [],
   "source": [
    "vocab_size = \n",
    "imdb = tf.keras.datasets.imdb\n",
    "(train_data, train_labels), (test_data, test_labels) = imdb.load_data(num_words=vocab_size)"
   ]
  },
  {
   "cell_type": "markdown",
   "metadata": {
    "id": "VB6bkg13AKAO"
   },
   "source": [
    "As imported, the text of reviews is integer-encoded (each integer represents a specific word in a dictionary)."
   ]
  },
  {
   "cell_type": "code",
   "execution_count": null,
   "metadata": {
    "colab": {
     "base_uri": "https://localhost:8080/"
    },
    "id": "7RYfvVkzAKAO",
    "outputId": "0c1e9fee-fa49-4a74-d9e7-79e150e7cc59"
   },
   "outputs": [],
   "source": [
    "print(f'Length of data: {len(train_data[0])}')\n",
    "print(train_data[0])\n",
    "print(train_labels[0])"
   ]
  },
  {
   "cell_type": "markdown",
   "metadata": {
    "id": "4AEHoE2FAKAP"
   },
   "source": [
    "#### Convert the integers back to words\n",
    "It may be useful to know how to convert integers back to text. Here, we'll create a helper function to query a dictionary object that contains the integer to string mapping.\n",
    "\n",
    "And actually, by the default setting of [`tf.keras.datasets.imdb.load_data`](https://www.tensorflow.org/api_docs/python/tf/keras/datasets/imdb/load_data), integer index 1 indicates the start of a sequence and 2 indicates the out-of-vocabulary character. Then, 4 is the first index that actual words appears.\n",
    "\n",
    "#### Things to do\n",
    "\n",
    "1. First, we will load imdb dictionary (word_int_dict) that maps words to an integer index\n",
    "2. We will make a dictionary that maps integer index to words (int_word_dict, which is inverse of word_int_dict)\n",
    "3. The actual words must appear from index 4 in int_word_dict\n",
    "4. We will define some indexes for special tokens (0-PAD, 1-START, 2-UNK, 3-UNUSED)\n",
    "5. Finally, we will define a function (decode_review) that can convert index array to sequence of words"
   ]
  },
  {
   "cell_type": "code",
   "execution_count": null,
   "metadata": {
    "colab": {
     "base_uri": "https://localhost:8080/"
    },
    "id": "R8fkL4QsBzG5",
    "outputId": "f3b01592-1bce-482b-ddaa-f3997e7da8ef"
   },
   "outputs": [],
   "source": [
    "# A dictionary mapping words to an integer index\n",
    "word_int_dict = "
   ]
  },
  {
   "cell_type": "code",
   "execution_count": 6,
   "metadata": {
    "id": "ygMxIwyGCOSo"
   },
   "outputs": [],
   "source": [
    "# Create dict class using key(words)-value(integers)\n",
    "int_word_dict = \n",
    "\n",
    "\n",
    "def decode_review(text):\n"
   ]
  },
  {
   "cell_type": "code",
   "execution_count": null,
   "metadata": {
    "colab": {
     "base_uri": "https://localhost:8080/",
     "height": 166
    },
    "id": "-u-TuMsIAKAP",
    "outputId": "9cac5689-c420-4a6d-c6d5-b6831135f6bd"
   },
   "outputs": [],
   "source": [
    "\n",
    "print(\"Train_data[0]: {}\\n\".format(train_data[0]))\n",
    "decode_review(train_data[0])\n"
   ]
  },
  {
   "cell_type": "markdown",
   "metadata": {
    "id": "VnKQmYGHAKAP"
   },
   "source": [
    "Movie reviews can be different lengths. We will use the [`pad_sequences`](https://www.tensorflow.org/versions/r2.0/api_docs/python/tf/keras/preprocessing/sequence/pad_sequences) function to standardize the lengths of the reviews."
   ]
  },
  {
   "cell_type": "code",
   "execution_count": 10,
   "metadata": {
    "id": "991DllItAKAP"
   },
   "outputs": [],
   "source": [
    "# Standardize the lenghts of data to use it as an input of model\n",
    "maxlen = \n",
    "\n",
    "# Return the 2D Numpy array of shape (train_data, maxlen) \n",
    "# by transfoming the input data with zeros peddings \n",
    "train_data = \n",
    "\n",
    "test_data = "
   ]
  },
  {
   "cell_type": "code",
   "execution_count": null,
   "metadata": {
    "colab": {
     "base_uri": "https://localhost:8080/"
    },
    "id": "mnhFo1PMAKAQ",
    "outputId": "9db22ffb-e6ff-4adc-ab5c-307ca26b90f7"
   },
   "outputs": [],
   "source": [
    "print(f'Length of data: {len(train_data[0])}')\n",
    "print(train_data[0])"
   ]
  },
  {
   "cell_type": "markdown",
   "metadata": {
    "id": "G6CA5QMxAKAQ"
   },
   "source": [
    "#### Create simple embedding model \n",
    "\n",
    "Let's define our model using `tf.keras.Sequential`\n",
    "- The first layer is a `tf.keras.layers.Embedding` layer. This layer takes the integer-encoded vocabulary and looks up the embedding vector for each word-index (convert integers to floating values). These vectors are learned as the model trains.\n",
    "- Next, a `tf.keras.layers.GlobalAveragePooling1D` layer returns a fixed-length output vector for each example by averaging over the sequence dimension. This allows the model to handle input of variable length, in the simplest way possible.  \n",
    "![Global average pool 1D](images/global-average-pool-1d.png)\n",
    "- This fixed-length output vector is piped through a `tf.keras.layers.Dense` with 16 hidden units.\n",
    "- The last layer is a `tf.keras.layers.Dense` with a single output node. Using the sigmoid activation function, this value is a float between 0 and 1, representing a probability (or confidence level) that the review is positive."
   ]
  },
  {
   "cell_type": "code",
   "execution_count": 12,
   "metadata": {
    "id": "a6ZScFkIEuSr"
   },
   "outputs": [],
   "source": [
    "# Let's use GlobalAveragePooling1D!\n",
    "pool_func = "
   ]
  },
  {
   "cell_type": "code",
   "execution_count": 13,
   "metadata": {
    "id": "gSv3eFTmEudw"
   },
   "outputs": [],
   "source": []
  },
  {
   "cell_type": "code",
   "execution_count": 14,
   "metadata": {
    "id": "FaJEP5GeAKAQ"
   },
   "outputs": [],
   "source": [
    "embedding_dim = \n",
    "\n",
    "model = tf.keras.Sequential([\n",
    "\n",
    "    \n",
    "])\n",
    "\n",
    "model.summary()"
   ]
  },
  {
   "cell_type": "markdown",
   "metadata": {
    "id": "Dj9dP9-uAKAQ"
   },
   "source": [
    "#### Compile and train the model "
   ]
  },
  {
   "cell_type": "code",
   "execution_count": null,
   "metadata": {
    "colab": {
     "base_uri": "https://localhost:8080/"
    },
    "id": "pLdTxXuiAKAQ",
    "outputId": "7110a09b-6e9c-4749-cf92-0be4be379a1d"
   },
   "outputs": [],
   "source": [
    "# Compile the model\n",
    "model.compile(\n",
    "    \n",
    ")\n",
    "\n",
    "# Then, train the model\n",
    "history = model.fit(\n",
    "\n",
    "\n",
    ")"
   ]
  },
  {
   "cell_type": "markdown",
   "metadata": {
    "id": "4LHmHimgAKAR"
   },
   "source": [
    "With this approach our model reaches a validation accuracy of around 88%."
   ]
  },
  {
   "cell_type": "code",
   "execution_count": null,
   "metadata": {
    "colab": {
     "base_uri": "https://localhost:8080/",
     "height": 1000
    },
    "id": "fo7Z-QRqAKAR",
    "outputId": "8fb8c62f-3d27-47e1-d433-2641e4b30308"
   },
   "outputs": [],
   "source": [
    "history_dict = history.history\n",
    "\n",
    "acc = history_dict['accuracy']\n",
    "val_acc = history_dict['val_accuracy']\n",
    "loss = history_dict['loss']\n",
    "val_loss = history_dict['val_loss']\n",
    "\n",
    "epochs = range(1, len(acc) + 1)\n",
    "\n",
    "plt.figure(figsize=(12, 9))\n",
    "plt.plot(epochs, loss, 'bo', label='Training loss')\n",
    "plt.plot(epochs, val_loss, 'b', label='Validation loss')\n",
    "plt.title('Training and validation loss')\n",
    "plt.xlabel('Epochs')\n",
    "plt.ylabel('Loss')\n",
    "plt.legend()\n",
    "plt.show()\n",
    "\n",
    "plt.figure(figsize=(12, 9))\n",
    "plt.plot(epochs, acc, 'bo', label='Training acc')\n",
    "plt.plot(epochs, val_acc, 'b', label='Validation acc')\n",
    "plt.title('Training and validation accuracy')\n",
    "plt.xlabel('Epochs')\n",
    "plt.ylabel('Accuracy')\n",
    "plt.legend(loc='lower right')\n",
    "plt.ylim((0.5, 1))\n",
    "plt.show()"
   ]
  },
  {
   "cell_type": "markdown",
   "metadata": {
    "id": "6KHBiJFOAKAR"
   },
   "source": [
    "#### Explore the learned embeddings\n",
    "Next, let's explore the word embeddings learned during training. To use Embedding Projector, we will dump the embedding layers as two files: \n",
    "- A file of embeddings\n",
    "- A file of meta data containing words"
   ]
  },
  {
   "cell_type": "code",
   "execution_count": 18,
   "metadata": {
    "id": "EoCaGrSVAKAR"
   },
   "outputs": [],
   "source": [
    "embedding_layer = model.layers[0]\n",
    "weights = embedding_layer.get_weights()[0]\n",
    "\n",
    "with open('embeddings.tsv', 'w', encoding='utf-8') as embeddings_file:\n",
    "    with open('meta.tsv', 'w', encoding='utf-8') as meta_file:\n",
    "        for word_index in range(vocab_size):\n",
    "            word = int_word_dict[word_index]\n",
    "            embedding = weights[word_index]\n",
    "            \n",
    "            print('\\t'.join(str(x) for x in embedding), file=embeddings_file)\n",
    "            print(word, file=meta_file)"
   ]
  },
  {
   "cell_type": "code",
   "execution_count": null,
   "metadata": {
    "colab": {
     "base_uri": "https://localhost:8080/",
     "height": 17
    },
    "id": "RPW9-gc2AKAR",
    "outputId": "8f378da6-345e-40dc-8c53-06c0ffd0be0a"
   },
   "outputs": [],
   "source": [
    "try:\n",
    "    from google.colab import files\n",
    "except ImportError:\n",
    "    pass\n",
    "else:\n",
    "    files.download('embeddings.tsv')\n",
    "    files.download('meta.tsv')"
   ]
  },
  {
   "cell_type": "markdown",
   "metadata": {
    "id": "J_NQic28AKAS"
   },
   "source": [
    "Then, we can visualize the embeddings using the [Embedding Projector](http://projector.tensorflow.org).\n",
    "\n",
    "Once you load dumped files, the embeddings you have trained will now be displayed. You can search for words to find their closest neighbors. For example, try searching for \"beautiful\". You may see neighbors like \"wonderful\". (Note: your results may be a bit different, depending on how weights were randomly initialized before training the embedding layer)"
   ]
  }
 ],
 "metadata": {
  "colab": {
   "name": "2. Word Embeddings.ipynb의 사본",
   "provenance": [],
   "toc_visible": true
  },
  "kernelspec": {
   "display_name": "Python 3",
   "language": "python",
   "name": "python3"
  },
  "language_info": {
   "codemirror_mode": {
    "name": "ipython",
    "version": 3
   },
   "file_extension": ".py",
   "mimetype": "text/x-python",
   "name": "python",
   "nbconvert_exporter": "python",
   "pygments_lexer": "ipython3",
   "version": "3.8.3"
  }
 },
 "nbformat": 4,
 "nbformat_minor": 4
}
